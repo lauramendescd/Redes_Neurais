{
  "nbformat": 4,
  "nbformat_minor": 0,
  "metadata": {
    "colab": {
      "provenance": [],
      "authorship_tag": "ABX9TyMRSPgx44LELV7i448fL3SC",
      "include_colab_link": true
    },
    "kernelspec": {
      "name": "python3",
      "display_name": "Python 3"
    },
    "language_info": {
      "name": "python"
    }
  },
  "cells": [
    {
      "cell_type": "markdown",
      "metadata": {
        "id": "view-in-github",
        "colab_type": "text"
      },
      "source": [
        "<a href=\"https://colab.research.google.com/github/lauramendescd/Redes_Neurais/blob/main/func_ativacao.ipynb\" target=\"_parent\"><img src=\"https://colab.research.google.com/assets/colab-badge.svg\" alt=\"Open In Colab\"/></a>"
      ]
    },
    {
      "cell_type": "code",
      "source": [
        "from sympy import *\n",
        "a, v = symbols('a v')\n",
        "expr = 1 / (1 + exp(-a*v))\n",
        "expr.diff(v)"
      ],
      "metadata": {
        "colab": {
          "base_uri": "https://localhost:8080/",
          "height": 60
        },
        "id": "knDMaakvTS2z",
        "outputId": "44fc3117-c9fe-42b0-faf5-410aff9fefea"
      },
      "execution_count": 9,
      "outputs": [
        {
          "output_type": "execute_result",
          "data": {
            "text/plain": [
              "a*exp(-a*v)/(1 + exp(-a*v))**2"
            ],
            "text/latex": "$\\displaystyle \\frac{a e^{- a v}}{\\left(1 + e^{- a v}\\right)^{2}}$"
          },
          "metadata": {},
          "execution_count": 9
        }
      ]
    }
  ]
}